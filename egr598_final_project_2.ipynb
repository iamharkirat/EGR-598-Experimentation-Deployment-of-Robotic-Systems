{
  "cells": [
    {
      "cell_type": "markdown",
      "metadata": {
        "id": "view-in-github",
        "colab_type": "text"
      },
      "source": [
        "<a href=\"https://colab.research.google.com/github/iamharkirat/EGR-598-Experimentation-Deployment-of-Robotic-Systems/blob/main/egr598_final_project_2.ipynb\" target=\"_parent\"><img src=\"https://colab.research.google.com/assets/colab-badge.svg\" alt=\"Open In Colab\"/></a>"
      ]
    },
    {
      "cell_type": "code",
      "execution_count": 1,
      "metadata": {
        "colab": {
          "base_uri": "https://localhost:8080/"
        },
        "id": "RZNJREotsJQW",
        "outputId": "3ea2de98-0c15-478d-d15f-1c163f244125"
      },
      "outputs": [
        {
          "output_type": "stream",
          "name": "stdout",
          "text": [
            "Mounted at /content/drive\n"
          ]
        }
      ],
      "source": [
        "from google.colab import drive\n",
        "drive.mount('/content/drive')"
      ]
    },
    {
      "cell_type": "markdown",
      "metadata": {
        "id": "HgZdiefgsL2B"
      },
      "source": [
        "# Getting the data"
      ]
    },
    {
      "cell_type": "code",
      "execution_count": 13,
      "metadata": {
        "id": "mmMDCM4vsTCk"
      },
      "outputs": [],
      "source": [
        "import pandas as pd\n",
        "import numpy as np\n",
        "import seaborn as sns\n",
        "import matplotlib.pyplot as plt"
      ]
    },
    {
      "cell_type": "code",
      "execution_count": null,
      "metadata": {
        "id": "yj_RLfkes3-X"
      },
      "outputs": [],
      "source": [
        "# import zipfile\n",
        "# from tqdm import tqdm\n",
        "\n",
        "# zip_file_path = '/content/drive/MyDrive/data_egr598/main_data/maindata.zip'\n",
        "# extract_path = '/content/drive/MyDrive/data_egr598/main_data/'\n",
        "\n",
        "# with zipfile.ZipFile(zip_file_path, 'r') as zip_ref:\n",
        "#     files = zip_ref.namelist()\n",
        "#     for file in tqdm(files, desc=\"Extracting\", unit=\"files\"):\n",
        "#         zip_ref.extract(file, extract_path)"
      ]
    },
    {
      "cell_type": "code",
      "execution_count": 3,
      "metadata": {
        "id": "QgRQ5BTFsTIg"
      },
      "outputs": [],
      "source": [
        "df1=pd.read_csv('/content/drive/MyDrive/data_egr598/main_data/maindata/data_02/data.csv')\n",
        "df2=pd.read_csv('/content/drive/MyDrive/data_egr598/main_data/maindata/data_03/data.csv')\n",
        "df3=pd.read_csv('/content/drive/MyDrive/data_egr598/main_data/maindata/data_01/data.csv')\n",
        "df4=pd.read_csv('/content/drive/MyDrive/data_egr598/main_data/maindata/data/data.csv')"
      ]
    },
    {
      "cell_type": "code",
      "execution_count": 4,
      "metadata": {
        "colab": {
          "base_uri": "https://localhost:8080/"
        },
        "id": "x95HKwIHsTK1",
        "outputId": "512cc560-3c38-4bdd-a1ae-3e789ef3f4a6"
      },
      "outputs": [
        {
          "output_type": "stream",
          "name": "stderr",
          "text": [
            "<ipython-input-4-2a96340dbb41>:8: FutureWarning: The default value of regex will change from True to False in a future version.\n",
            "  df1['image_path'] = '/content/drive/MyDrive/data_egr598/main_data/maindata/data_02/' + df1['image_path'].str.replace('.png', '.png')\n",
            "<ipython-input-4-2a96340dbb41>:9: FutureWarning: The default value of regex will change from True to False in a future version.\n",
            "  df2['image_path'] = '/content/drive/MyDrive/data_egr598/main_data/maindata/data_03/' + df2['image_path'].str.replace('.png', '.png')\n",
            "<ipython-input-4-2a96340dbb41>:10: FutureWarning: The default value of regex will change from True to False in a future version.\n",
            "  df3['image_path'] = '/content/drive/MyDrive/data_egr598/main_data/maindata/data_01/' + df3['image_path'].str.replace('.png', '.png')\n",
            "<ipython-input-4-2a96340dbb41>:11: FutureWarning: The default value of regex will change from True to False in a future version.\n",
            "  df4['image_path'] = '/content/drive/MyDrive/data_egr598/main_data/maindata/data/' + df4['image_path'].str.replace('.png', '.png')\n"
          ]
        }
      ],
      "source": [
        "# Remove the 'data/' prefix from the image_path column\n",
        "df1['image_path'] = df1['image_path'].str.replace('data/', '')\n",
        "df2['image_path'] = df2['image_path'].str.replace('data/', '')\n",
        "df3['image_path'] = df3['image_path'].str.replace('data/', '')\n",
        "df4['image_path'] = df4['image_path'].str.replace('data/', '')\n",
        "\n",
        "# Add the '/content/drive/MyDrive/data_egr598/' prefix to the image_path column\n",
        "df1['image_path'] = '/content/drive/MyDrive/data_egr598/main_data/maindata/data_02/' + df1['image_path'].str.replace('.png', '.png')\n",
        "df2['image_path'] = '/content/drive/MyDrive/data_egr598/main_data/maindata/data_03/' + df2['image_path'].str.replace('.png', '.png')\n",
        "df3['image_path'] = '/content/drive/MyDrive/data_egr598/main_data/maindata/data_01/' + df3['image_path'].str.replace('.png', '.png')\n",
        "df4['image_path'] = '/content/drive/MyDrive/data_egr598/main_data/maindata/data/' + df4['image_path'].str.replace('.png', '.png')"
      ]
    },
    {
      "cell_type": "code",
      "execution_count": 5,
      "metadata": {
        "id": "RvYJg554sTNd"
      },
      "outputs": [],
      "source": [
        "# Add a column to each dataframe to indicate the source\n",
        "df1['source'] = 'data_02'\n",
        "df2['source'] = 'data_03'\n",
        "df3['source'] = 'data_01'\n",
        "df4['source'] = 'data'"
      ]
    },
    {
      "cell_type": "code",
      "execution_count": 6,
      "metadata": {
        "colab": {
          "base_uri": "https://localhost:8080/",
          "height": 206
        },
        "id": "9G76wzYpsTQU",
        "outputId": "75d75fbe-5f41-47db-a2ab-9182c3ea131d"
      },
      "outputs": [
        {
          "output_type": "execute_result",
          "data": {
            "text/plain": [
              "      timestamp                                         image_path  linear_x  \\\n",
              "0  1.681957e+09  /content/drive/MyDrive/data_egr598/main_data/m...       0.0   \n",
              "1  1.681957e+09  /content/drive/MyDrive/data_egr598/main_data/m...       0.0   \n",
              "2  1.681957e+09  /content/drive/MyDrive/data_egr598/main_data/m...       0.0   \n",
              "3  1.681957e+09  /content/drive/MyDrive/data_egr598/main_data/m...       0.0   \n",
              "4  1.681957e+09  /content/drive/MyDrive/data_egr598/main_data/m...       0.0   \n",
              "\n",
              "   angular_z   source  \n",
              "0        0.0  data_02  \n",
              "1        0.0  data_02  \n",
              "2        0.0  data_02  \n",
              "3        0.0  data_02  \n",
              "4        0.0  data_02  "
            ],
            "text/html": [
              "\n",
              "  <div id=\"df-4815f658-bfc2-4725-ad2b-8d1c57327b68\">\n",
              "    <div class=\"colab-df-container\">\n",
              "      <div>\n",
              "<style scoped>\n",
              "    .dataframe tbody tr th:only-of-type {\n",
              "        vertical-align: middle;\n",
              "    }\n",
              "\n",
              "    .dataframe tbody tr th {\n",
              "        vertical-align: top;\n",
              "    }\n",
              "\n",
              "    .dataframe thead th {\n",
              "        text-align: right;\n",
              "    }\n",
              "</style>\n",
              "<table border=\"1\" class=\"dataframe\">\n",
              "  <thead>\n",
              "    <tr style=\"text-align: right;\">\n",
              "      <th></th>\n",
              "      <th>timestamp</th>\n",
              "      <th>image_path</th>\n",
              "      <th>linear_x</th>\n",
              "      <th>angular_z</th>\n",
              "      <th>source</th>\n",
              "    </tr>\n",
              "  </thead>\n",
              "  <tbody>\n",
              "    <tr>\n",
              "      <th>0</th>\n",
              "      <td>1.681957e+09</td>\n",
              "      <td>/content/drive/MyDrive/data_egr598/main_data/m...</td>\n",
              "      <td>0.0</td>\n",
              "      <td>0.0</td>\n",
              "      <td>data_02</td>\n",
              "    </tr>\n",
              "    <tr>\n",
              "      <th>1</th>\n",
              "      <td>1.681957e+09</td>\n",
              "      <td>/content/drive/MyDrive/data_egr598/main_data/m...</td>\n",
              "      <td>0.0</td>\n",
              "      <td>0.0</td>\n",
              "      <td>data_02</td>\n",
              "    </tr>\n",
              "    <tr>\n",
              "      <th>2</th>\n",
              "      <td>1.681957e+09</td>\n",
              "      <td>/content/drive/MyDrive/data_egr598/main_data/m...</td>\n",
              "      <td>0.0</td>\n",
              "      <td>0.0</td>\n",
              "      <td>data_02</td>\n",
              "    </tr>\n",
              "    <tr>\n",
              "      <th>3</th>\n",
              "      <td>1.681957e+09</td>\n",
              "      <td>/content/drive/MyDrive/data_egr598/main_data/m...</td>\n",
              "      <td>0.0</td>\n",
              "      <td>0.0</td>\n",
              "      <td>data_02</td>\n",
              "    </tr>\n",
              "    <tr>\n",
              "      <th>4</th>\n",
              "      <td>1.681957e+09</td>\n",
              "      <td>/content/drive/MyDrive/data_egr598/main_data/m...</td>\n",
              "      <td>0.0</td>\n",
              "      <td>0.0</td>\n",
              "      <td>data_02</td>\n",
              "    </tr>\n",
              "  </tbody>\n",
              "</table>\n",
              "</div>\n",
              "      <button class=\"colab-df-convert\" onclick=\"convertToInteractive('df-4815f658-bfc2-4725-ad2b-8d1c57327b68')\"\n",
              "              title=\"Convert this dataframe to an interactive table.\"\n",
              "              style=\"display:none;\">\n",
              "        \n",
              "  <svg xmlns=\"http://www.w3.org/2000/svg\" height=\"24px\"viewBox=\"0 0 24 24\"\n",
              "       width=\"24px\">\n",
              "    <path d=\"M0 0h24v24H0V0z\" fill=\"none\"/>\n",
              "    <path d=\"M18.56 5.44l.94 2.06.94-2.06 2.06-.94-2.06-.94-.94-2.06-.94 2.06-2.06.94zm-11 1L8.5 8.5l.94-2.06 2.06-.94-2.06-.94L8.5 2.5l-.94 2.06-2.06.94zm10 10l.94 2.06.94-2.06 2.06-.94-2.06-.94-.94-2.06-.94 2.06-2.06.94z\"/><path d=\"M17.41 7.96l-1.37-1.37c-.4-.4-.92-.59-1.43-.59-.52 0-1.04.2-1.43.59L10.3 9.45l-7.72 7.72c-.78.78-.78 2.05 0 2.83L4 21.41c.39.39.9.59 1.41.59.51 0 1.02-.2 1.41-.59l7.78-7.78 2.81-2.81c.8-.78.8-2.07 0-2.86zM5.41 20L4 18.59l7.72-7.72 1.47 1.35L5.41 20z\"/>\n",
              "  </svg>\n",
              "      </button>\n",
              "      \n",
              "  <style>\n",
              "    .colab-df-container {\n",
              "      display:flex;\n",
              "      flex-wrap:wrap;\n",
              "      gap: 12px;\n",
              "    }\n",
              "\n",
              "    .colab-df-convert {\n",
              "      background-color: #E8F0FE;\n",
              "      border: none;\n",
              "      border-radius: 50%;\n",
              "      cursor: pointer;\n",
              "      display: none;\n",
              "      fill: #1967D2;\n",
              "      height: 32px;\n",
              "      padding: 0 0 0 0;\n",
              "      width: 32px;\n",
              "    }\n",
              "\n",
              "    .colab-df-convert:hover {\n",
              "      background-color: #E2EBFA;\n",
              "      box-shadow: 0px 1px 2px rgba(60, 64, 67, 0.3), 0px 1px 3px 1px rgba(60, 64, 67, 0.15);\n",
              "      fill: #174EA6;\n",
              "    }\n",
              "\n",
              "    [theme=dark] .colab-df-convert {\n",
              "      background-color: #3B4455;\n",
              "      fill: #D2E3FC;\n",
              "    }\n",
              "\n",
              "    [theme=dark] .colab-df-convert:hover {\n",
              "      background-color: #434B5C;\n",
              "      box-shadow: 0px 1px 3px 1px rgba(0, 0, 0, 0.15);\n",
              "      filter: drop-shadow(0px 1px 2px rgba(0, 0, 0, 0.3));\n",
              "      fill: #FFFFFF;\n",
              "    }\n",
              "  </style>\n",
              "\n",
              "      <script>\n",
              "        const buttonEl =\n",
              "          document.querySelector('#df-4815f658-bfc2-4725-ad2b-8d1c57327b68 button.colab-df-convert');\n",
              "        buttonEl.style.display =\n",
              "          google.colab.kernel.accessAllowed ? 'block' : 'none';\n",
              "\n",
              "        async function convertToInteractive(key) {\n",
              "          const element = document.querySelector('#df-4815f658-bfc2-4725-ad2b-8d1c57327b68');\n",
              "          const dataTable =\n",
              "            await google.colab.kernel.invokeFunction('convertToInteractive',\n",
              "                                                     [key], {});\n",
              "          if (!dataTable) return;\n",
              "\n",
              "          const docLinkHtml = 'Like what you see? Visit the ' +\n",
              "            '<a target=\"_blank\" href=https://colab.research.google.com/notebooks/data_table.ipynb>data table notebook</a>'\n",
              "            + ' to learn more about interactive tables.';\n",
              "          element.innerHTML = '';\n",
              "          dataTable['output_type'] = 'display_data';\n",
              "          await google.colab.output.renderOutput(dataTable, element);\n",
              "          const docLink = document.createElement('div');\n",
              "          docLink.innerHTML = docLinkHtml;\n",
              "          element.appendChild(docLink);\n",
              "        }\n",
              "      </script>\n",
              "    </div>\n",
              "  </div>\n",
              "  "
            ]
          },
          "metadata": {},
          "execution_count": 6
        }
      ],
      "source": [
        "# Combine the dataframes into one dataframe\n",
        "df = pd.concat([df1, df2, df3, df4], ignore_index=True)\n",
        "df.head()"
      ]
    },
    {
      "cell_type": "code",
      "execution_count": 15,
      "metadata": {
        "colab": {
          "base_uri": "https://localhost:8080/",
          "height": 573
        },
        "id": "55YJhvSytdv6",
        "outputId": "403eeff6-ee79-4348-8520-39e0b387eb29"
      },
      "outputs": [
        {
          "output_type": "display_data",
          "data": {
            "text/plain": [
              "<Figure size 800x600 with 1 Axes>"
            ],
            "image/png": "[encoded data removed]"
          },
          "metadata": {}
        }
      ],
      "source": [
        "# Set Seaborn style and color palette\n",
        "sns.set_style('darkgrid')\n",
        "sns.color_palette('husl')\n",
        "\n",
        "# Plot histogram using Seaborn\n",
        "ax = sns.histplot(data=df, x='angular_z')\n",
        "\n",
        "# Add axis labels and title\n",
        "plt.xlabel('Angular Z')\n",
        "plt.ylabel('Count')\n",
        "plt.title('Distribution of Angular Z')\n",
        "\n",
        "# Add annotations\n",
        "for rect in ax.patches:\n",
        "    # Get the height of the bar\n",
        "    height = rect.get_height()\n",
        "    \n",
        "    # Add the annotation on top of the bar with bold font\n",
        "    ax.annotate(f'{height:.0f}', xy=(rect.get_x() + rect.get_width() / 2, height),\n",
        "                xytext=(0, 3), textcoords='offset points', ha='center', va='bottom', fontweight='bold')\n",
        "\n",
        "# Show the plot\n",
        "plt.show()"
      ]
    },
    {
      "cell_type": "code",
      "execution_count": null,
      "metadata": {
        "colab": {
          "base_uri": "https://localhost:8080/"
        },
        "id": "RAXqMyujtq1n",
        "outputId": "a640327e-ca74-49ee-b512-70bc0408cec4"
      },
      "outputs": [
        {
          "data": {
            "text/plain": [
              " 0.000000    4448\n",
              "-0.079766     587\n",
              " 0.079766     491\n",
              "Name: angular_z, dtype: int64"
            ]
          },
          "execution_count": 9,
          "metadata": {},
          "output_type": "execute_result"
        }
      ],
      "source": [
        "df['angular_z'].value_counts()"
      ]
    },
    {
      "cell_type": "code",
      "execution_count": null,
      "metadata": {
        "id": "BS3ueDz3tyIC"
      },
      "outputs": [],
      "source": [
        "# Get 1200 samples for each unique value of angular_z, except for 0.00000\n",
        "sample_size = 450\n",
        "unique_z = df['angular_z'].unique()\n",
        "\n",
        "sampled_data = pd.concat([\n",
        "    df[df['angular_z'] == z].sample(n=sample_size, random_state=42, replace=True)\n",
        "    if z != 0.0 else\n",
        "    df[df['angular_z'] == z].sample(n=900, random_state=42, replace=True)\n",
        "    for z in unique_z\n",
        "])\n",
        "\n",
        "# Reset the index of the sampled data\n",
        "sampled_data = sampled_data.reset_index(drop=True)"
      ]
    },
    {
      "cell_type": "code",
      "execution_count": null,
      "metadata": {
        "colab": {
          "base_uri": "https://localhost:8080/"
        },
        "id": "95TPJLL9u0tq",
        "outputId": "3f512c6f-3146-4325-cb44-39f07513f19f"
      },
      "outputs": [
        {
          "data": {
            "text/plain": [
              " 0.000000    900\n",
              " 0.079766    450\n",
              "-0.079766    450\n",
              "Name: angular_z, dtype: int64"
            ]
          },
          "execution_count": 11,
          "metadata": {},
          "output_type": "execute_result"
        }
      ],
      "source": [
        "sampled_data['angular_z'].value_counts()"
      ]
    },
    {
      "cell_type": "code",
      "execution_count": null,
      "metadata": {
        "colab": {
          "base_uri": "https://localhost:8080/",
          "height": 467
        },
        "id": "iBFFh5LevHAg",
        "outputId": "7e80f44a-6216-4fc2-b722-4437d557f8ae"
      },
      "outputs": [
        {
          "data": {
            "text/plain": [
              "<Axes: xlabel='angular_z', ylabel='Count'>"
            ]
          },
          "execution_count": 12,
          "metadata": {},
          "output_type": "execute_result"
        },
        {
          "data": {
            "image/png": "[encoded data removed]",
            "text/plain": [
              "<Figure size 640x480 with 1 Axes>"
            ]
          },
          "metadata": {},
          "output_type": "display_data"
        }
      ],
      "source": [
        "# Plot the histogram using Seaborn\n",
        "sns.histplot(data=sampled_data, x='angular_z')"
      ]
    },
    {
      "cell_type": "markdown",
      "metadata": {
        "id": "t_YVEIQHwc0U"
      },
      "source": [
        "# View & process the images"
      ]
    },
    {
      "cell_type": "code",
      "execution_count": null,
      "metadata": {
        "id": "jw01QWYhwc2c"
      },
      "outputs": [],
      "source": []
    },
    {
      "cell_type": "code",
      "execution_count": null,
      "metadata": {
        "id": "6JFenGj9wc4i"
      },
      "outputs": [],
      "source": []
    },
    {
      "cell_type": "markdown",
      "metadata": {
        "id": "KqMOzsIJwc64"
      },
      "source": [
        "# Build the model"
      ]
    },
    {
      "cell_type": "code",
      "execution_count": null,
      "metadata": {
        "colab": {
          "base_uri": "https://localhost:8080/"
        },
        "id": "hX6FkoO4wc8-",
        "outputId": "6e17636b-997a-4af0-d777-b5c17c9d6a83"
      },
      "outputs": [
        {
          "name": "stdout",
          "output_type": "stream",
          "text": [
            "<class 'pandas.core.frame.DataFrame'>\n",
            "RangeIndex: 1800 entries, 0 to 1799\n",
            "Data columns (total 5 columns):\n",
            " #   Column      Non-Null Count  Dtype  \n",
            "---  ------      --------------  -----  \n",
            " 0   timestamp   1800 non-null   float64\n",
            " 1   image_path  1800 non-null   object \n",
            " 2   linear_x    1800 non-null   float64\n",
            " 3   angular_z   1800 non-null   float64\n",
            " 4   source      1800 non-null   object \n",
            "dtypes: float64(3), object(2)\n",
            "memory usage: 70.4+ KB\n"
          ]
        }
      ],
      "source": [
        "sampled_data.info()"
      ]
    },
    {
      "cell_type": "code",
      "execution_count": null,
      "metadata": {
        "colab": {
          "base_uri": "https://localhost:8080/"
        },
        "id": "kKOmYyRkwc_T",
        "outputId": "7fe98230-1394-42b1-d04e-ce8c7f409ccc"
      },
      "outputs": [
        {
          "name": "stderr",
          "output_type": "stream",
          "text": [
            "Processing images: 100%|██████████| 1800/1800 [00:41<00:00, 42.99it/s]\n"
          ]
        },
        {
          "name": "stdout",
          "output_type": "stream",
          "text": [
            "Model: \"sequential\"\n",
            "_________________________________________________________________\n",
            " Layer (type)                Output Shape              Param #   \n",
            "=================================================================\n",
            " conv2d (Conv2D)             (None, 222, 222, 32)      896       \n",
            "                                                                 \n",
            " max_pooling2d (MaxPooling2D  (None, 111, 111, 32)     0         \n",
            " )                                                               \n",
            "                                                                 \n",
            " conv2d_1 (Conv2D)           (None, 109, 109, 64)      18496     \n",
            "                                                                 \n",
            " max_pooling2d_1 (MaxPooling  (None, 54, 54, 64)       0         \n",
            " 2D)                                                             \n",
            "                                                                 \n",
            " conv2d_2 (Conv2D)           (None, 52, 52, 128)       73856     \n",
            "                                                                 \n",
            " max_pooling2d_2 (MaxPooling  (None, 26, 26, 128)      0         \n",
            " 2D)                                                             \n",
            "                                                                 \n",
            " flatten (Flatten)           (None, 86528)             0         \n",
            "                                                                 \n",
            " dense (Dense)               (None, 512)               44302848  \n",
            "                                                                 \n",
            " dropout (Dropout)           (None, 512)               0         \n",
            "                                                                 \n",
            " dense_1 (Dense)             (None, 3)                 1539      \n",
            "                                                                 \n",
            "=================================================================\n",
            "Total params: 44,397,635\n",
            "Trainable params: 44,397,635\n",
            "Non-trainable params: 0\n",
            "_________________________________________________________________\n",
            "Epoch 1/10\n",
            "45/45 [==============================] - 16s 85ms/step - loss: 1.0082 - accuracy: 0.6042 - val_loss: 0.4665 - val_accuracy: 0.8056\n",
            "Epoch 2/10\n",
            "45/45 [==============================] - 3s 61ms/step - loss: 0.3296 - accuracy: 0.8687 - val_loss: 0.3342 - val_accuracy: 0.8833\n",
            "Epoch 3/10\n",
            "45/45 [==============================] - 3s 60ms/step - loss: 0.1834 - accuracy: 0.9368 - val_loss: 0.2106 - val_accuracy: 0.9333\n",
            "Epoch 4/10\n",
            "45/45 [==============================] - 3s 59ms/step - loss: 0.1334 - accuracy: 0.9556 - val_loss: 0.2264 - val_accuracy: 0.9389\n",
            "Epoch 5/10\n",
            "45/45 [==============================] - 3s 59ms/step - loss: 0.1280 - accuracy: 0.9535 - val_loss: 0.2119 - val_accuracy: 0.9611\n",
            "Epoch 6/10\n",
            "45/45 [==============================] - 3s 65ms/step - loss: 0.1059 - accuracy: 0.9646 - val_loss: 0.1862 - val_accuracy: 0.9444\n",
            "Epoch 7/10\n",
            "45/45 [==============================] - 3s 64ms/step - loss: 0.0957 - accuracy: 0.9688 - val_loss: 0.1914 - val_accuracy: 0.9583\n",
            "Epoch 8/10\n",
            "45/45 [==============================] - 3s 61ms/step - loss: 0.1114 - accuracy: 0.9688 - val_loss: 0.1671 - val_accuracy: 0.9583\n",
            "Epoch 9/10\n",
            "45/45 [==============================] - 3s 60ms/step - loss: 0.0731 - accuracy: 0.9764 - val_loss: 0.2251 - val_accuracy: 0.9556\n",
            "Epoch 10/10\n",
            "45/45 [==============================] - 3s 61ms/step - loss: 0.0648 - accuracy: 0.9750 - val_loss: 0.1716 - val_accuracy: 0.9639\n"
          ]
        }
      ],
      "source": [
        "import numpy as np\n",
        "import pandas as pd\n",
        "from sklearn.model_selection import train_test_split\n",
        "from sklearn.preprocessing import LabelEncoder\n",
        "from tensorflow.keras.preprocessing.image import load_img, img_to_array\n",
        "from tensorflow.keras.utils import to_categorical\n",
        "import tensorflow as tf\n",
        "from tensorflow.keras.models import Sequential\n",
        "from tensorflow.keras.layers import Conv2D, MaxPooling2D, Flatten, Dense, Dropout\n",
        "from tqdm import tqdm  # Import the tqdm library\n",
        "from concurrent.futures import ThreadPoolExecutor\n",
        "\n",
        "# Preprocess the images\n",
        "def preprocess_image(image_path, target_size=(224, 224)):\n",
        "    img = load_img(image_path, target_size=target_size)\n",
        "    img_array = img_to_array(img) / 255.0\n",
        "    return img_array\n",
        "\n",
        "# Process images in parallel\n",
        "def process_images_parallel(image_paths, target_size=(224, 224)):\n",
        "    with ThreadPoolExecutor() as executor:\n",
        "        futures = [executor.submit(preprocess_image, img_path, target_size) for img_path in image_paths]\n",
        "        results = [f.result() for f in tqdm(futures, desc=\"Processing images\")]\n",
        "    return results\n",
        "\n",
        "images = np.array(process_images_parallel(sampled_data[\"image_path\"]))\n",
        "\n",
        "# Preprocess the labels\n",
        "label_encoder = LabelEncoder()\n",
        "labels = label_encoder.fit_transform(sampled_data[\"angular_z\"])\n",
        "labels = to_categorical(labels)\n",
        "\n",
        "# Split the data into train and validation sets\n",
        "X_train, X_val, y_train, y_val = train_test_split(images, labels, test_size=0.2, random_state=42)\n",
        "\n",
        "model = Sequential([\n",
        "    Conv2D(32, kernel_size=(3, 3), activation='relu', input_shape=(224, 224, 3)),\n",
        "    MaxPooling2D(pool_size=(2, 2)),\n",
        "    Conv2D(64, kernel_size=(3, 3), activation='relu'),\n",
        "    MaxPooling2D(pool_size=(2, 2)),\n",
        "    Conv2D(128, kernel_size=(3, 3), activation='relu'),\n",
        "    MaxPooling2D(pool_size=(2, 2)),\n",
        "    Flatten(),\n",
        "    Dense(512, activation='relu'),\n",
        "    Dropout(0.5),\n",
        "    Dense(3, activation='softmax')  # We have 3 distinct labels\n",
        "])\n",
        "\n",
        "model.summary()\n",
        "\n",
        "# Compile the model\n",
        "model.compile(optimizer='adam', loss='categorical_crossentropy', metrics=['accuracy'])\n",
        "\n",
        "# Train the model\n",
        "history = model.fit(X_train, y_train, batch_size=32, epochs=10, validation_data=(X_val, y_val))"
      ]
    },
    {
      "cell_type": "code",
      "execution_count": null,
      "metadata": {
        "id": "Yo9d09W0K5Rn"
      },
      "outputs": [],
      "source": [
        "# Save the model\n",
        "model.save(\"my_model.h5\")"
      ]
    },
    {
      "cell_type": "code",
      "execution_count": null,
      "metadata": {
        "colab": {
          "base_uri": "https://localhost:8080/"
        },
        "id": "jlFKu_u_Kjts",
        "outputId": "aacdf73b-93ab-422a-c289-31e2f50e88fc"
      },
      "outputs": [
        {
          "name": "stdout",
          "output_type": "stream",
          "text": [
            "12/12 [==============================] - 0s 24ms/step - loss: 0.1716 - accuracy: 0.9639\n",
            "Validation Loss: 0.1715652197599411\n",
            "Validation Accuracy: 0.9638888835906982\n",
            "12/12 [==============================] - 0s 19ms/step\n",
            "Accuracy on validation set: 96.39%\n",
            "     Actual  Predicted\n",
            "0 -0.079766  -0.079766\n",
            "1  0.079766   0.079766\n",
            "2  0.000000   0.000000\n",
            "3  0.000000   0.000000\n",
            "4  0.079766   0.079766\n"
          ]
        }
      ],
      "source": [
        "# Evaluate the model on the validation set\n",
        "validation_loss, validation_accuracy = model.evaluate(X_val, y_val)\n",
        "\n",
        "print(\"Validation Loss:\", validation_loss)\n",
        "print(\"Validation Accuracy:\", validation_accuracy)\n",
        "\n",
        "# Predict the angular_z values for the validation images\n",
        "y_val_pred_prob = model.predict(X_val)\n",
        "\n",
        "# Convert the predictions to label indices\n",
        "y_val_pred_indices = np.argmax(y_val_pred_prob, axis=1)\n",
        "\n",
        "# Convert the label indices back to original angular_z values\n",
        "y_val_pred = label_encoder.inverse_transform(y_val_pred_indices)\n",
        "\n",
        "# Convert the one-hot encoded y_val back to original angular_z values\n",
        "y_val_original = label_encoder.inverse_transform(np.argmax(y_val, axis=1))\n",
        "\n",
        "# Calculate the accuracy\n",
        "accuracy = np.mean(y_val_original == y_val_pred)\n",
        "print(f\"Accuracy on validation set: {accuracy:.2%}\")\n",
        "\n",
        "# Compare the actual angular_z with the predicted angular_z\n",
        "comparison = pd.DataFrame({\"Actual\": y_val_original, \"Predicted\": y_val_pred})\n",
        "print(comparison.head())\n"
      ]
    },
    {
      "cell_type": "markdown",
      "metadata": {
        "id": "JYW2GdsrNVnw"
      },
      "source": [
        "## Test the base model"
      ]
    },
    {
      "cell_type": "code",
      "execution_count": null,
      "metadata": {
        "colab": {
          "base_uri": "https://localhost:8080/"
        },
        "id": "0T-xOzDPKtrd",
        "outputId": "73fe38ab-eaa5-4e87-920a-d985249b71d1"
      },
      "outputs": [
        {
          "name": "stderr",
          "output_type": "stream",
          "text": [
            "<ipython-input-17-14c3dd6479d6>:8: FutureWarning: The default value of regex will change from True to False in a future version.\n",
            "  test_df['image_path'] = '/content/drive/MyDrive/data_egr598/main_data/maindata/data/' + test_df['image_path'].str.replace('.png', '.png')\n"
          ]
        }
      ],
      "source": [
        "test_df=pd.read_csv('/content/drive/MyDrive/data_egr598/main_data/maindata/data/data.csv')\n",
        "\n",
        "# Remove the 'data/' prefix from the image_path column\n",
        "test_df['image_path'] = test_df['image_path'].str.replace('data/', '')\n",
        "\n",
        "\n",
        "# Add the '/content/drive/MyDrive/data_egr598/' prefix to the image_path column\n",
        "test_df['image_path'] = '/content/drive/MyDrive/data_egr598/main_data/maindata/data/' + test_df['image_path'].str.replace('.png', '.png')\n"
      ]
    },
    {
      "cell_type": "code",
      "execution_count": null,
      "metadata": {
        "colab": {
          "base_uri": "https://localhost:8080/"
        },
        "id": "WxJSK0qOK-Wk",
        "outputId": "52b0d051-6ac0-4e2b-a44b-e5e507d79bd7"
      },
      "outputs": [
        {
          "name": "stderr",
          "output_type": "stream",
          "text": [
            "Processing images: 100%|██████████| 1798/1798 [00:48<00:00, 37.10it/s]\n"
          ]
        },
        {
          "name": "stdout",
          "output_type": "stream",
          "text": [
            "57/57 [==============================] - 1s 20ms/step\n",
            "Accuracy on test set: 75.86%\n",
            "   Actual  Predicted\n",
            "0     0.0        0.0\n",
            "1     0.0        0.0\n",
            "2     0.0        0.0\n",
            "3     0.0        0.0\n",
            "4     0.0        0.0\n"
          ]
        }
      ],
      "source": [
        "import pandas as pd\n",
        "import numpy as np\n",
        "from sklearn.preprocessing import LabelEncoder\n",
        "from sklearn.metrics import accuracy_score\n",
        "from tensorflow.keras.preprocessing.image import load_img, img_to_array\n",
        "from tensorflow.keras.utils import to_categorical\n",
        "from tqdm import tqdm  # Import the tqdm library\n",
        "from concurrent.futures import ThreadPoolExecutor\n",
        "\n",
        "# Preprocess the images\n",
        "def preprocess_image(image_path, target_size=(224, 224)):\n",
        "    img = load_img(image_path, target_size=target_size)\n",
        "    img_array = img_to_array(img) / 255.0\n",
        "    return img_array\n",
        "\n",
        "# Process images in parallel\n",
        "def process_images_parallel(image_paths, target_size=(224, 224)):\n",
        "    with ThreadPoolExecutor() as executor:\n",
        "        futures = [executor.submit(preprocess_image, img_path, target_size) for img_path in image_paths]\n",
        "        results = [f.result() for f in tqdm(futures, desc=\"Processing images\")]\n",
        "    return results\n",
        "\n",
        "images = np.array(process_images_parallel(test_df[\"image_path\"]))\n",
        "\n",
        "# Preprocess the labels\n",
        "label_encoder = LabelEncoder()\n",
        "labels = label_encoder.fit_transform(test_df[\"angular_z\"])\n",
        "labels = to_categorical(labels)\n",
        "\n",
        "# Assuming the images are loaded and preprocessed into X_test and corresponding angular_z values are in y_test\n",
        "X_test, y_test = images, labels\n",
        "\n",
        "# Predict the angular_z values for the test images\n",
        "y_test_pred_prob = model.predict(X_test)\n",
        "\n",
        "# Convert the predictions to label indices\n",
        "y_test_pred_indices = np.argmax(y_test_pred_prob, axis=1)\n",
        "\n",
        "# Convert the label indices back to original angular_z values\n",
        "y_test_pred = label_encoder.inverse_transform(y_test_pred_indices)\n",
        "\n",
        "# Convert the one-hot encoded y_test back to original angular_z values\n",
        "y_test_original = label_encoder.inverse_transform(np.argmax(y_test, axis=1))\n",
        "\n",
        "# Calculate the accuracy\n",
        "accuracy = np.mean(y_test_original == y_test_pred)\n",
        "print(f\"Accuracy on test set: {accuracy:.2%}\")\n",
        "\n",
        "# Compare the actual angular_z with the predicted angular_z\n",
        "comparison = pd.DataFrame({\"Actual\": y_test_original, \"Predicted\": y_test_pred})\n",
        "print(comparison.head())"
      ]
    },
    {
      "cell_type": "markdown",
      "metadata": {
        "id": "Fw4I3VtYVwQK"
      },
      "source": [
        "# Transfer learning model"
      ]
    },
    {
      "cell_type": "code",
      "execution_count": null,
      "metadata": {
        "colab": {
          "base_uri": "https://localhost:8080/"
        },
        "id": "s3cpm31pVzHO",
        "outputId": "8a05dec8-4e71-47b2-8812-06d27556963d"
      },
      "outputs": [
        {
          "name": "stdout",
          "output_type": "stream",
          "text": [
            "Downloading data from https://storage.googleapis.com/tensorflow/keras-applications/vgg16/vgg16_weights_tf_dim_ordering_tf_kernels_notop.h5\n",
            "58889256/58889256 [==============================] - 0s 0us/step\n",
            "Model: \"sequential_1\"\n",
            "_________________________________________________________________\n",
            " Layer (type)                Output Shape              Param #   \n",
            "=================================================================\n",
            " vgg16 (Functional)          (None, 7, 7, 512)         14714688  \n",
            "                                                                 \n",
            " flatten_1 (Flatten)         (None, 25088)             0         \n",
            "                                                                 \n",
            " dense_2 (Dense)             (None, 512)               12845568  \n",
            "                                                                 \n",
            " dropout_1 (Dropout)         (None, 512)               0         \n",
            "                                                                 \n",
            " dense_3 (Dense)             (None, 3)                 1539      \n",
            "                                                                 \n",
            "=================================================================\n",
            "Total params: 27,561,795\n",
            "Trainable params: 12,847,107\n",
            "Non-trainable params: 14,714,688\n",
            "_________________________________________________________________\n",
            "Epoch 1/20\n",
            "45/45 [==============================] - 27s 481ms/step - loss: 2.3545 - accuracy: 0.5000 - val_loss: 0.6963 - val_accuracy: 0.6917 - lr: 0.0010\n",
            "Epoch 2/20\n",
            "45/45 [==============================] - 18s 401ms/step - loss: 0.7937 - accuracy: 0.6250 - val_loss: 0.5402 - val_accuracy: 0.8139 - lr: 0.0010\n",
            "Epoch 3/20\n",
            "45/45 [==============================] - 20s 455ms/step - loss: 0.6737 - accuracy: 0.6972 - val_loss: 0.5450 - val_accuracy: 0.7444 - lr: 0.0010\n",
            "Epoch 4/20\n",
            "45/45 [==============================] - 19s 426ms/step - loss: 0.6525 - accuracy: 0.7257 - val_loss: 0.4799 - val_accuracy: 0.8139 - lr: 0.0010\n",
            "Epoch 5/20\n",
            "45/45 [==============================] - 19s 417ms/step - loss: 0.6084 - accuracy: 0.7382 - val_loss: 0.4077 - val_accuracy: 0.8333 - lr: 0.0010\n",
            "Epoch 6/20\n",
            "45/45 [==============================] - 19s 426ms/step - loss: 0.5816 - accuracy: 0.7563 - val_loss: 0.4986 - val_accuracy: 0.8167 - lr: 9.0484e-04\n",
            "Epoch 7/20\n",
            "45/45 [==============================] - 20s 452ms/step - loss: 0.5622 - accuracy: 0.7625 - val_loss: 0.3559 - val_accuracy: 0.8444 - lr: 8.1873e-04\n",
            "Epoch 8/20\n",
            "45/45 [==============================] - 20s 429ms/step - loss: 0.5161 - accuracy: 0.7708 - val_loss: 0.3210 - val_accuracy: 0.8861 - lr: 7.4082e-04\n",
            "Epoch 9/20\n",
            "45/45 [==============================] - 19s 425ms/step - loss: 0.5435 - accuracy: 0.7639 - val_loss: 0.3164 - val_accuracy: 0.8833 - lr: 6.7032e-04\n",
            "Epoch 10/20\n",
            "45/45 [==============================] - 20s 443ms/step - loss: 0.4671 - accuracy: 0.8167 - val_loss: 0.2900 - val_accuracy: 0.8972 - lr: 6.0653e-04\n",
            "Epoch 11/20\n",
            "45/45 [==============================] - 19s 428ms/step - loss: 0.4860 - accuracy: 0.7972 - val_loss: 0.3381 - val_accuracy: 0.8556 - lr: 5.4881e-04\n",
            "Epoch 12/20\n",
            "45/45 [==============================] - 19s 423ms/step - loss: 0.4318 - accuracy: 0.8139 - val_loss: 0.2748 - val_accuracy: 0.8778 - lr: 4.9659e-04\n",
            "Epoch 13/20\n",
            "45/45 [==============================] - 18s 402ms/step - loss: 0.4492 - accuracy: 0.8042 - val_loss: 0.2952 - val_accuracy: 0.8694 - lr: 4.4933e-04\n",
            "Epoch 14/20\n",
            "45/45 [==============================] - 18s 401ms/step - loss: 0.4177 - accuracy: 0.8250 - val_loss: 0.3046 - val_accuracy: 0.8972 - lr: 4.0657e-04\n",
            "Epoch 15/20\n",
            "45/45 [==============================] - 19s 421ms/step - loss: 0.3960 - accuracy: 0.8313 - val_loss: 0.2890 - val_accuracy: 0.8722 - lr: 3.6788e-04\n",
            "Epoch 16/20\n",
            "45/45 [==============================] - 19s 423ms/step - loss: 0.3961 - accuracy: 0.8361 - val_loss: 0.2561 - val_accuracy: 0.9028 - lr: 3.3287e-04\n",
            "Epoch 17/20\n",
            "45/45 [==============================] - 18s 402ms/step - loss: 0.4003 - accuracy: 0.8271 - val_loss: 0.2604 - val_accuracy: 0.8972 - lr: 3.0119e-04\n",
            "Epoch 18/20\n",
            "45/45 [==============================] - 19s 422ms/step - loss: 0.3701 - accuracy: 0.8396 - val_loss: 0.2510 - val_accuracy: 0.9000 - lr: 2.7253e-04\n",
            "Epoch 19/20\n",
            "45/45 [==============================] - 20s 449ms/step - loss: 0.3848 - accuracy: 0.8389 - val_loss: 0.2545 - val_accuracy: 0.9028 - lr: 2.4660e-04\n",
            "Epoch 20/20\n",
            "45/45 [==============================] - 19s 416ms/step - loss: 0.3690 - accuracy: 0.8424 - val_loss: 0.2586 - val_accuracy: 0.9111 - lr: 2.2313e-04\n"
          ]
        }
      ],
      "source": [
        "from tensorflow.keras.preprocessing.image import ImageDataGenerator\n",
        "from tensorflow.keras.callbacks import LearningRateScheduler, EarlyStopping\n",
        "from tensorflow.keras.applications import VGG16\n",
        "\n",
        "\n",
        "# Load the VGG16 model\n",
        "base_model = VGG16(weights=\"imagenet\", include_top=False, input_shape=(224, 224, 3))\n",
        "\n",
        "# Freeze the pre-trained layers\n",
        "for layer in base_model.layers:\n",
        "    layer.trainable = False\n",
        "\n",
        "model = Sequential([\n",
        "    base_model,\n",
        "    Flatten(),\n",
        "    Dense(512, activation='relu'),\n",
        "    Dropout(0.5),\n",
        "    Dense(3, activation='softmax')  # We have 3 distinct labels\n",
        "])\n",
        "\n",
        "model.summary()\n",
        "\n",
        "# Data augmentation\n",
        "datagen = ImageDataGenerator(\n",
        "    rotation_range=20,\n",
        "    width_shift_range=0.1,\n",
        "    height_shift_range=0.1,\n",
        "    shear_range=0.2,\n",
        "    zoom_range=0.2,\n",
        "    horizontal_flip=True,\n",
        "    fill_mode='nearest')\n",
        "\n",
        "# Learning rate scheduling\n",
        "def lr_scheduler(epoch, lr):\n",
        "    if epoch < 5:\n",
        "        return lr\n",
        "    else:\n",
        "        return lr * tf.math.exp(-0.1)\n",
        "\n",
        "lr_callback = LearningRateScheduler(lr_scheduler)\n",
        "\n",
        "# Early stopping\n",
        "early_stopping = EarlyStopping(monitor='val_loss', patience=5)\n",
        "\n",
        "# Compile the model\n",
        "model.compile(optimizer='adam', loss='categorical_crossentropy', metrics=['accuracy'])\n",
        "\n",
        "# Train the model\n",
        "history = model.fit(datagen.flow(X_train, y_train, batch_size=32),\n",
        "                    epochs=20,\n",
        "                    validation_data=(X_val, y_val),\n",
        "                    callbacks=[lr_callback, early_stopping])\n"
      ]
    },
    {
      "cell_type": "code",
      "execution_count": null,
      "metadata": {
        "id": "8ruAGdKnLELS"
      },
      "outputs": [],
      "source": [
        "# Save the model\n",
        "model.save(\"my_model_transfer.h5\")"
      ]
    },
    {
      "cell_type": "code",
      "execution_count": null,
      "metadata": {
        "colab": {
          "base_uri": "https://localhost:8080/"
        },
        "id": "54JiZnJawdBp",
        "outputId": "297e5741-23aa-49cd-f07f-b596dd94e825"
      },
      "outputs": [
        {
          "name": "stdout",
          "output_type": "stream",
          "text": [
            "12/12 [==============================] - 2s 122ms/step - loss: 0.2586 - accuracy: 0.9111\n",
            "Validation Loss: 0.2586304247379303\n",
            "Validation Accuracy: 0.9111111164093018\n"
          ]
        }
      ],
      "source": [
        "# Evaluate the model on the validation set\n",
        "validation_loss, validation_accuracy = model.evaluate(X_val, y_val)\n",
        "\n",
        "print(\"Validation Loss:\", validation_loss)\n",
        "print(\"Validation Accuracy:\", validation_accuracy)\n"
      ]
    },
    {
      "cell_type": "code",
      "execution_count": null,
      "metadata": {
        "colab": {
          "base_uri": "https://localhost:8080/"
        },
        "id": "jdmhUtzb86Qk",
        "outputId": "68bcdea7-5a5e-4094-fc5a-f53caaad7f6e"
      },
      "outputs": [
        {
          "name": "stdout",
          "output_type": "stream",
          "text": [
            "12/12 [==============================] - 2s 121ms/step\n",
            "Accuracy on validation set: 91.11%\n",
            "     Actual  Predicted\n",
            "0 -0.079766  -0.079766\n",
            "1  0.079766   0.079766\n",
            "2  0.000000   0.000000\n",
            "3  0.000000   0.000000\n",
            "4  0.079766   0.079766\n"
          ]
        }
      ],
      "source": [
        "# Predict the angular_z values for the validation images\n",
        "y_val_pred_prob = model.predict(X_val)\n",
        "\n",
        "# Convert the predictions to label indices\n",
        "y_val_pred_indices = np.argmax(y_val_pred_prob, axis=1)\n",
        "\n",
        "# Convert the label indices back to original angular_z values\n",
        "y_val_pred = label_encoder.inverse_transform(y_val_pred_indices)\n",
        "\n",
        "# Convert the one-hot encoded y_val back to original angular_z values\n",
        "y_val_original = label_encoder.inverse_transform(np.argmax(y_val, axis=1))\n",
        "\n",
        "# Calculate the accuracy\n",
        "accuracy = np.mean(y_val_original == y_val_pred)\n",
        "print(f\"Accuracy on validation set: {accuracy:.2%}\")\n",
        "\n",
        "# Compare the actual angular_z with the predicted angular_z\n",
        "comparison = pd.DataFrame({\"Actual\": y_val_original, \"Predicted\": y_val_pred})\n",
        "print(comparison.head())\n"
      ]
    },
    {
      "cell_type": "code",
      "execution_count": null,
      "metadata": {
        "colab": {
          "base_uri": "https://localhost:8080/",
          "height": 677
        },
        "id": "DXY77boJBkQD",
        "outputId": "c7e1f956-6b7e-4574-d4f1-3376b3ecb805"
      },
      "outputs": [
        {
          "data": {
            "text/html": [
              "\n",
              "  <div id=\"df-ef09b4b9-7434-4377-a3dd-0994554012e7\">\n",
              "    <div class=\"colab-df-container\">\n",
              "      <div>\n",
              "<style scoped>\n",
              "    .dataframe tbody tr th:only-of-type {\n",
              "        vertical-align: middle;\n",
              "    }\n",
              "\n",
              "    .dataframe tbody tr th {\n",
              "        vertical-align: top;\n",
              "    }\n",
              "\n",
              "    .dataframe thead th {\n",
              "        text-align: right;\n",
              "    }\n",
              "</style>\n",
              "<table border=\"1\" class=\"dataframe\">\n",
              "  <thead>\n",
              "    <tr style=\"text-align: right;\">\n",
              "      <th></th>\n",
              "      <th>Actual</th>\n",
              "      <th>Predicted</th>\n",
              "    </tr>\n",
              "  </thead>\n",
              "  <tbody>\n",
              "    <tr>\n",
              "      <th>0</th>\n",
              "      <td>-0.079766</td>\n",
              "      <td>-0.079766</td>\n",
              "    </tr>\n",
              "    <tr>\n",
              "      <th>1</th>\n",
              "      <td>0.079766</td>\n",
              "      <td>0.079766</td>\n",
              "    </tr>\n",
              "    <tr>\n",
              "      <th>2</th>\n",
              "      <td>0.000000</td>\n",
              "      <td>0.000000</td>\n",
              "    </tr>\n",
              "    <tr>\n",
              "      <th>3</th>\n",
              "      <td>0.000000</td>\n",
              "      <td>0.000000</td>\n",
              "    </tr>\n",
              "    <tr>\n",
              "      <th>4</th>\n",
              "      <td>0.079766</td>\n",
              "      <td>0.079766</td>\n",
              "    </tr>\n",
              "    <tr>\n",
              "      <th>5</th>\n",
              "      <td>0.000000</td>\n",
              "      <td>0.000000</td>\n",
              "    </tr>\n",
              "    <tr>\n",
              "      <th>6</th>\n",
              "      <td>0.000000</td>\n",
              "      <td>0.079766</td>\n",
              "    </tr>\n",
              "    <tr>\n",
              "      <th>7</th>\n",
              "      <td>0.000000</td>\n",
              "      <td>0.000000</td>\n",
              "    </tr>\n",
              "    <tr>\n",
              "      <th>8</th>\n",
              "      <td>-0.079766</td>\n",
              "      <td>-0.079766</td>\n",
              "    </tr>\n",
              "    <tr>\n",
              "      <th>9</th>\n",
              "      <td>0.079766</td>\n",
              "      <td>0.079766</td>\n",
              "    </tr>\n",
              "    <tr>\n",
              "      <th>10</th>\n",
              "      <td>-0.079766</td>\n",
              "      <td>-0.079766</td>\n",
              "    </tr>\n",
              "    <tr>\n",
              "      <th>11</th>\n",
              "      <td>0.079766</td>\n",
              "      <td>0.079766</td>\n",
              "    </tr>\n",
              "    <tr>\n",
              "      <th>12</th>\n",
              "      <td>0.079766</td>\n",
              "      <td>0.079766</td>\n",
              "    </tr>\n",
              "    <tr>\n",
              "      <th>13</th>\n",
              "      <td>0.079766</td>\n",
              "      <td>0.079766</td>\n",
              "    </tr>\n",
              "    <tr>\n",
              "      <th>14</th>\n",
              "      <td>0.000000</td>\n",
              "      <td>0.000000</td>\n",
              "    </tr>\n",
              "    <tr>\n",
              "      <th>15</th>\n",
              "      <td>0.079766</td>\n",
              "      <td>0.079766</td>\n",
              "    </tr>\n",
              "    <tr>\n",
              "      <th>16</th>\n",
              "      <td>0.000000</td>\n",
              "      <td>0.000000</td>\n",
              "    </tr>\n",
              "    <tr>\n",
              "      <th>17</th>\n",
              "      <td>0.079766</td>\n",
              "      <td>0.079766</td>\n",
              "    </tr>\n",
              "    <tr>\n",
              "      <th>18</th>\n",
              "      <td>0.000000</td>\n",
              "      <td>0.000000</td>\n",
              "    </tr>\n",
              "    <tr>\n",
              "      <th>19</th>\n",
              "      <td>-0.079766</td>\n",
              "      <td>-0.079766</td>\n",
              "    </tr>\n",
              "  </tbody>\n",
              "</table>\n",
              "</div>\n",
              "      <button class=\"colab-df-convert\" onclick=\"convertToInteractive('df-ef09b4b9-7434-4377-a3dd-0994554012e7')\"\n",
              "              title=\"Convert this dataframe to an interactive table.\"\n",
              "              style=\"display:none;\">\n",
              "        \n",
              "  <svg xmlns=\"http://www.w3.org/2000/svg\" height=\"24px\"viewBox=\"0 0 24 24\"\n",
              "       width=\"24px\">\n",
              "    <path d=\"M0 0h24v24H0V0z\" fill=\"none\"/>\n",
              "    <path d=\"M18.56 5.44l.94 2.06.94-2.06 2.06-.94-2.06-.94-.94-2.06-.94 2.06-2.06.94zm-11 1L8.5 8.5l.94-2.06 2.06-.94-2.06-.94L8.5 2.5l-.94 2.06-2.06.94zm10 10l.94 2.06.94-2.06 2.06-.94-2.06-.94-.94-2.06-.94 2.06-2.06.94z\"/><path d=\"M17.41 7.96l-1.37-1.37c-.4-.4-.92-.59-1.43-.59-.52 0-1.04.2-1.43.59L10.3 9.45l-7.72 7.72c-.78.78-.78 2.05 0 2.83L4 21.41c.39.39.9.59 1.41.59.51 0 1.02-.2 1.41-.59l7.78-7.78 2.81-2.81c.8-.78.8-2.07 0-2.86zM5.41 20L4 18.59l7.72-7.72 1.47 1.35L5.41 20z\"/>\n",
              "  </svg>\n",
              "      </button>\n",
              "      \n",
              "  <style>\n",
              "    .colab-df-container {\n",
              "      display:flex;\n",
              "      flex-wrap:wrap;\n",
              "      gap: 12px;\n",
              "    }\n",
              "\n",
              "    .colab-df-convert {\n",
              "      background-color: #E8F0FE;\n",
              "      border: none;\n",
              "      border-radius: 50%;\n",
              "      cursor: pointer;\n",
              "      display: none;\n",
              "      fill: #1967D2;\n",
              "      height: 32px;\n",
              "      padding: 0 0 0 0;\n",
              "      width: 32px;\n",
              "    }\n",
              "\n",
              "    .colab-df-convert:hover {\n",
              "      background-color: #E2EBFA;\n",
              "      box-shadow: 0px 1px 2px rgba(60, 64, 67, 0.3), 0px 1px 3px 1px rgba(60, 64, 67, 0.15);\n",
              "      fill: #174EA6;\n",
              "    }\n",
              "\n",
              "    [theme=dark] .colab-df-convert {\n",
              "      background-color: #3B4455;\n",
              "      fill: #D2E3FC;\n",
              "    }\n",
              "\n",
              "    [theme=dark] .colab-df-convert:hover {\n",
              "      background-color: #434B5C;\n",
              "      box-shadow: 0px 1px 3px 1px rgba(0, 0, 0, 0.15);\n",
              "      filter: drop-shadow(0px 1px 2px rgba(0, 0, 0, 0.3));\n",
              "      fill: #FFFFFF;\n",
              "    }\n",
              "  </style>\n",
              "\n",
              "      <script>\n",
              "        const buttonEl =\n",
              "          document.querySelector('#df-ef09b4b9-7434-4377-a3dd-0994554012e7 button.colab-df-convert');\n",
              "        buttonEl.style.display =\n",
              "          google.colab.kernel.accessAllowed ? 'block' : 'none';\n",
              "\n",
              "        async function convertToInteractive(key) {\n",
              "          const element = document.querySelector('#df-ef09b4b9-7434-4377-a3dd-0994554012e7');\n",
              "          const dataTable =\n",
              "            await google.colab.kernel.invokeFunction('convertToInteractive',\n",
              "                                                     [key], {});\n",
              "          if (!dataTable) return;\n",
              "\n",
              "          const docLinkHtml = 'Like what you see? Visit the ' +\n",
              "            '<a target=\"_blank\" href=https://colab.research.google.com/notebooks/data_table.ipynb>data table notebook</a>'\n",
              "            + ' to learn more about interactive tables.';\n",
              "          element.innerHTML = '';\n",
              "          dataTable['output_type'] = 'display_data';\n",
              "          await google.colab.output.renderOutput(dataTable, element);\n",
              "          const docLink = document.createElement('div');\n",
              "          docLink.innerHTML = docLinkHtml;\n",
              "          element.appendChild(docLink);\n",
              "        }\n",
              "      </script>\n",
              "    </div>\n",
              "  </div>\n",
              "  "
            ],
            "text/plain": [
              "      Actual  Predicted\n",
              "0  -0.079766  -0.079766\n",
              "1   0.079766   0.079766\n",
              "2   0.000000   0.000000\n",
              "3   0.000000   0.000000\n",
              "4   0.079766   0.079766\n",
              "5   0.000000   0.000000\n",
              "6   0.000000   0.079766\n",
              "7   0.000000   0.000000\n",
              "8  -0.079766  -0.079766\n",
              "9   0.079766   0.079766\n",
              "10 -0.079766  -0.079766\n",
              "11  0.079766   0.079766\n",
              "12  0.079766   0.079766\n",
              "13  0.079766   0.079766\n",
              "14  0.000000   0.000000\n",
              "15  0.079766   0.079766\n",
              "16  0.000000   0.000000\n",
              "17  0.079766   0.079766\n",
              "18  0.000000   0.000000\n",
              "19 -0.079766  -0.079766"
            ]
          },
          "execution_count": 23,
          "metadata": {},
          "output_type": "execute_result"
        }
      ],
      "source": [
        "comparison.head(20)"
      ]
    },
    {
      "cell_type": "markdown",
      "metadata": {
        "id": "ddnRIK_VCfPo"
      },
      "source": [
        "## Test the transfer learning model"
      ]
    },
    {
      "cell_type": "code",
      "execution_count": null,
      "metadata": {
        "colab": {
          "base_uri": "https://localhost:8080/"
        },
        "id": "W4WQNVzfDKJY",
        "outputId": "0ac24e34-2477-40aa-ccf6-fca1d76e0ff0"
      },
      "outputs": [
        {
          "name": "stderr",
          "output_type": "stream",
          "text": [
            "<ipython-input-24-14c3dd6479d6>:8: FutureWarning: The default value of regex will change from True to False in a future version.\n",
            "  test_df['image_path'] = '/content/drive/MyDrive/data_egr598/main_data/maindata/data/' + test_df['image_path'].str.replace('.png', '.png')\n"
          ]
        }
      ],
      "source": [
        "test_df=pd.read_csv('/content/drive/MyDrive/data_egr598/main_data/maindata/data/data.csv')\n",
        "\n",
        "# Remove the 'data/' prefix from the image_path column\n",
        "test_df['image_path'] = test_df['image_path'].str.replace('data/', '')\n",
        "\n",
        "\n",
        "# Add the '/content/drive/MyDrive/data_egr598/' prefix to the image_path column\n",
        "test_df['image_path'] = '/content/drive/MyDrive/data_egr598/main_data/maindata/data/' + test_df['image_path'].str.replace('.png', '.png')\n"
      ]
    },
    {
      "cell_type": "code",
      "execution_count": null,
      "metadata": {
        "colab": {
          "base_uri": "https://localhost:8080/",
          "height": 35
        },
        "id": "UT1O08UtDd8V",
        "outputId": "f16b1348-a876-45ed-c8e5-fa8669796259"
      },
      "outputs": [
        {
          "data": {
            "application/vnd.google.colaboratory.intrinsic+json": {
              "type": "string"
            },
            "text/plain": [
              "'/content/drive/MyDrive/data_egr598/main_data/maindata/data/1681957757.573238.png'"
            ]
          },
          "execution_count": 25,
          "metadata": {},
          "output_type": "execute_result"
        }
      ],
      "source": [
        "test_df['image_path'][1]"
      ]
    },
    {
      "cell_type": "code",
      "execution_count": null,
      "metadata": {
        "colab": {
          "base_uri": "https://localhost:8080/"
        },
        "id": "BJ2fCMz4DfsA",
        "outputId": "bd139838-19b9-424d-b2e0-6694f156a290"
      },
      "outputs": [
        {
          "name": "stdout",
          "output_type": "stream",
          "text": [
            "<class 'pandas.core.frame.DataFrame'>\n",
            "RangeIndex: 1798 entries, 0 to 1797\n",
            "Data columns (total 4 columns):\n",
            " #   Column      Non-Null Count  Dtype  \n",
            "---  ------      --------------  -----  \n",
            " 0   timestamp   1798 non-null   float64\n",
            " 1   image_path  1798 non-null   object \n",
            " 2   linear_x    1798 non-null   float64\n",
            " 3   angular_z   1798 non-null   float64\n",
            "dtypes: float64(3), object(1)\n",
            "memory usage: 56.3+ KB\n"
          ]
        }
      ],
      "source": [
        "test_df.info()"
      ]
    },
    {
      "cell_type": "code",
      "execution_count": null,
      "metadata": {
        "colab": {
          "base_uri": "https://localhost:8080/"
        },
        "id": "D0-y-AUIFaoQ",
        "outputId": "26ff70db-840b-458a-862f-6798342714ab"
      },
      "outputs": [
        {
          "name": "stderr",
          "output_type": "stream",
          "text": [
            "Processing images: 100%|██████████| 1798/1798 [00:04<00:00, 428.32it/s]\n"
          ]
        },
        {
          "name": "stdout",
          "output_type": "stream",
          "text": [
            "57/57 [==============================] - 8s 145ms/step\n",
            "Accuracy on test set: 87.71%\n",
            "   Actual  Predicted\n",
            "0     0.0        0.0\n",
            "1     0.0        0.0\n",
            "2     0.0        0.0\n",
            "3     0.0        0.0\n",
            "4     0.0        0.0\n"
          ]
        }
      ],
      "source": [
        "import pandas as pd\n",
        "import numpy as np\n",
        "from sklearn.preprocessing import LabelEncoder\n",
        "from sklearn.metrics import accuracy_score\n",
        "from tensorflow.keras.preprocessing.image import load_img, img_to_array\n",
        "from tensorflow.keras.utils import to_categorical\n",
        "from tqdm import tqdm  # Import the tqdm library\n",
        "from concurrent.futures import ThreadPoolExecutor\n",
        "\n",
        "# Preprocess the images\n",
        "def preprocess_image(image_path, target_size=(224, 224)):\n",
        "    img = load_img(image_path, target_size=target_size)\n",
        "    img_array = img_to_array(img) / 255.0\n",
        "    return img_array\n",
        "\n",
        "# Process images in parallel\n",
        "def process_images_parallel(image_paths, target_size=(224, 224)):\n",
        "    with ThreadPoolExecutor() as executor:\n",
        "        futures = [executor.submit(preprocess_image, img_path, target_size) for img_path in image_paths]\n",
        "        results = [f.result() for f in tqdm(futures, desc=\"Processing images\")]\n",
        "    return results\n",
        "\n",
        "images = np.array(process_images_parallel(test_df[\"image_path\"]))\n",
        "\n",
        "# Preprocess the labels\n",
        "label_encoder = LabelEncoder()\n",
        "labels = label_encoder.fit_transform(test_df[\"angular_z\"])\n",
        "labels = to_categorical(labels)\n",
        "\n",
        "# Assuming the images are loaded and preprocessed into X_test and corresponding angular_z values are in y_test\n",
        "X_test, y_test = images, labels\n",
        "\n",
        "# Predict the angular_z values for the test images\n",
        "y_test_pred_prob = model.predict(X_test)\n",
        "\n",
        "# Convert the predictions to label indices\n",
        "y_test_pred_indices = np.argmax(y_test_pred_prob, axis=1)\n",
        "\n",
        "# Convert the label indices back to original angular_z values\n",
        "y_test_pred = label_encoder.inverse_transform(y_test_pred_indices)\n",
        "\n",
        "# Convert the one-hot encoded y_test back to original angular_z values\n",
        "y_test_original = label_encoder.inverse_transform(np.argmax(y_test, axis=1))\n",
        "\n",
        "# Calculate the accuracy\n",
        "accuracy = np.mean(y_test_original == y_test_pred)\n",
        "print(f\"Accuracy on test set: {accuracy:.2%}\")\n",
        "\n",
        "# Compare the actual angular_z with the predicted angular_z\n",
        "comparison = pd.DataFrame({\"Actual\": y_test_original, \"Predicted\": y_test_pred})\n",
        "print(comparison.head())\n"
      ]
    },
    {
      "cell_type": "code",
      "execution_count": null,
      "metadata": {
        "colab": {
          "base_uri": "https://localhost:8080/",
          "height": 424
        },
        "id": "COcWuIvwF3WW",
        "outputId": "7203f2d0-ff16-41be-a3dd-c881a0e339b6"
      },
      "outputs": [
        {
          "data": {
            "text/html": [
              "\n",
              "  <div id=\"df-5f08a575-2482-4811-a632-89e5a6d825af\">\n",
              "    <div class=\"colab-df-container\">\n",
              "      <div>\n",
              "<style scoped>\n",
              "    .dataframe tbody tr th:only-of-type {\n",
              "        vertical-align: middle;\n",
              "    }\n",
              "\n",
              "    .dataframe tbody tr th {\n",
              "        vertical-align: top;\n",
              "    }\n",
              "\n",
              "    .dataframe thead th {\n",
              "        text-align: right;\n",
              "    }\n",
              "</style>\n",
              "<table border=\"1\" class=\"dataframe\">\n",
              "  <thead>\n",
              "    <tr style=\"text-align: right;\">\n",
              "      <th></th>\n",
              "      <th>Actual</th>\n",
              "      <th>Predicted</th>\n",
              "    </tr>\n",
              "  </thead>\n",
              "  <tbody>\n",
              "    <tr>\n",
              "      <th>384</th>\n",
              "      <td>0.000000</td>\n",
              "      <td>0.079766</td>\n",
              "    </tr>\n",
              "    <tr>\n",
              "      <th>385</th>\n",
              "      <td>0.000000</td>\n",
              "      <td>0.079766</td>\n",
              "    </tr>\n",
              "    <tr>\n",
              "      <th>386</th>\n",
              "      <td>0.000000</td>\n",
              "      <td>0.079766</td>\n",
              "    </tr>\n",
              "    <tr>\n",
              "      <th>388</th>\n",
              "      <td>0.079766</td>\n",
              "      <td>0.000000</td>\n",
              "    </tr>\n",
              "    <tr>\n",
              "      <th>389</th>\n",
              "      <td>0.079766</td>\n",
              "      <td>0.000000</td>\n",
              "    </tr>\n",
              "    <tr>\n",
              "      <th>...</th>\n",
              "      <td>...</td>\n",
              "      <td>...</td>\n",
              "    </tr>\n",
              "    <tr>\n",
              "      <th>1465</th>\n",
              "      <td>0.000000</td>\n",
              "      <td>-0.079766</td>\n",
              "    </tr>\n",
              "    <tr>\n",
              "      <th>1466</th>\n",
              "      <td>0.000000</td>\n",
              "      <td>-0.079766</td>\n",
              "    </tr>\n",
              "    <tr>\n",
              "      <th>1468</th>\n",
              "      <td>0.000000</td>\n",
              "      <td>-0.079766</td>\n",
              "    </tr>\n",
              "    <tr>\n",
              "      <th>1469</th>\n",
              "      <td>0.000000</td>\n",
              "      <td>-0.079766</td>\n",
              "    </tr>\n",
              "    <tr>\n",
              "      <th>1470</th>\n",
              "      <td>0.000000</td>\n",
              "      <td>-0.079766</td>\n",
              "    </tr>\n",
              "  </tbody>\n",
              "</table>\n",
              "<p>221 rows × 2 columns</p>\n",
              "</div>\n",
              "      <button class=\"colab-df-convert\" onclick=\"convertToInteractive('df-5f08a575-2482-4811-a632-89e5a6d825af')\"\n",
              "              title=\"Convert this dataframe to an interactive table.\"\n",
              "              style=\"display:none;\">\n",
              "        \n",
              "  <svg xmlns=\"http://www.w3.org/2000/svg\" height=\"24px\"viewBox=\"0 0 24 24\"\n",
              "       width=\"24px\">\n",
              "    <path d=\"M0 0h24v24H0V0z\" fill=\"none\"/>\n",
              "    <path d=\"M18.56 5.44l.94 2.06.94-2.06 2.06-.94-2.06-.94-.94-2.06-.94 2.06-2.06.94zm-11 1L8.5 8.5l.94-2.06 2.06-.94-2.06-.94L8.5 2.5l-.94 2.06-2.06.94zm10 10l.94 2.06.94-2.06 2.06-.94-2.06-.94-.94-2.06-.94 2.06-2.06.94z\"/><path d=\"M17.41 7.96l-1.37-1.37c-.4-.4-.92-.59-1.43-.59-.52 0-1.04.2-1.43.59L10.3 9.45l-7.72 7.72c-.78.78-.78 2.05 0 2.83L4 21.41c.39.39.9.59 1.41.59.51 0 1.02-.2 1.41-.59l7.78-7.78 2.81-2.81c.8-.78.8-2.07 0-2.86zM5.41 20L4 18.59l7.72-7.72 1.47 1.35L5.41 20z\"/>\n",
              "  </svg>\n",
              "      </button>\n",
              "      \n",
              "  <style>\n",
              "    .colab-df-container {\n",
              "      display:flex;\n",
              "      flex-wrap:wrap;\n",
              "      gap: 12px;\n",
              "    }\n",
              "\n",
              "    .colab-df-convert {\n",
              "      background-color: #E8F0FE;\n",
              "      border: none;\n",
              "      border-radius: 50%;\n",
              "      cursor: pointer;\n",
              "      display: none;\n",
              "      fill: #1967D2;\n",
              "      height: 32px;\n",
              "      padding: 0 0 0 0;\n",
              "      width: 32px;\n",
              "    }\n",
              "\n",
              "    .colab-df-convert:hover {\n",
              "      background-color: #E2EBFA;\n",
              "      box-shadow: 0px 1px 2px rgba(60, 64, 67, 0.3), 0px 1px 3px 1px rgba(60, 64, 67, 0.15);\n",
              "      fill: #174EA6;\n",
              "    }\n",
              "\n",
              "    [theme=dark] .colab-df-convert {\n",
              "      background-color: #3B4455;\n",
              "      fill: #D2E3FC;\n",
              "    }\n",
              "\n",
              "    [theme=dark] .colab-df-convert:hover {\n",
              "      background-color: #434B5C;\n",
              "      box-shadow: 0px 1px 3px 1px rgba(0, 0, 0, 0.15);\n",
              "      filter: drop-shadow(0px 1px 2px rgba(0, 0, 0, 0.3));\n",
              "      fill: #FFFFFF;\n",
              "    }\n",
              "  </style>\n",
              "\n",
              "      <script>\n",
              "        const buttonEl =\n",
              "          document.querySelector('#df-5f08a575-2482-4811-a632-89e5a6d825af button.colab-df-convert');\n",
              "        buttonEl.style.display =\n",
              "          google.colab.kernel.accessAllowed ? 'block' : 'none';\n",
              "\n",
              "        async function convertToInteractive(key) {\n",
              "          const element = document.querySelector('#df-5f08a575-2482-4811-a632-89e5a6d825af');\n",
              "          const dataTable =\n",
              "            await google.colab.kernel.invokeFunction('convertToInteractive',\n",
              "                                                     [key], {});\n",
              "          if (!dataTable) return;\n",
              "\n",
              "          const docLinkHtml = 'Like what you see? Visit the ' +\n",
              "            '<a target=\"_blank\" href=https://colab.research.google.com/notebooks/data_table.ipynb>data table notebook</a>'\n",
              "            + ' to learn more about interactive tables.';\n",
              "          element.innerHTML = '';\n",
              "          dataTable['output_type'] = 'display_data';\n",
              "          await google.colab.output.renderOutput(dataTable, element);\n",
              "          const docLink = document.createElement('div');\n",
              "          docLink.innerHTML = docLinkHtml;\n",
              "          element.appendChild(docLink);\n",
              "        }\n",
              "      </script>\n",
              "    </div>\n",
              "  </div>\n",
              "  "
            ],
            "text/plain": [
              "        Actual  Predicted\n",
              "384   0.000000   0.079766\n",
              "385   0.000000   0.079766\n",
              "386   0.000000   0.079766\n",
              "388   0.079766   0.000000\n",
              "389   0.079766   0.000000\n",
              "...        ...        ...\n",
              "1465  0.000000  -0.079766\n",
              "1466  0.000000  -0.079766\n",
              "1468  0.000000  -0.079766\n",
              "1469  0.000000  -0.079766\n",
              "1470  0.000000  -0.079766\n",
              "\n",
              "[221 rows x 2 columns]"
            ]
          },
          "execution_count": 28,
          "metadata": {},
          "output_type": "execute_result"
        }
      ],
      "source": [
        "# Find the mismatched rows\n",
        "mismatches = comparison[comparison[\"Actual\"] != comparison[\"Predicted\"]]\n",
        "mismatches"
      ]
    },
    {
      "cell_type": "code",
      "execution_count": null,
      "metadata": {
        "colab": {
          "base_uri": "https://localhost:8080/"
        },
        "id": "is8V4vehGJA_",
        "outputId": "59aaf416-5968-448a-c88c-6200c7136a22"
      },
      "outputs": [
        {
          "name": "stdout",
          "output_type": "stream",
          "text": [
            "<class 'pandas.core.frame.DataFrame'>\n",
            "RangeIndex: 1798 entries, 0 to 1797\n",
            "Data columns (total 4 columns):\n",
            " #   Column      Non-Null Count  Dtype  \n",
            "---  ------      --------------  -----  \n",
            " 0   timestamp   1798 non-null   float64\n",
            " 1   image_path  1798 non-null   object \n",
            " 2   linear_x    1798 non-null   float64\n",
            " 3   angular_z   1798 non-null   float64\n",
            "dtypes: float64(3), object(1)\n",
            "memory usage: 56.3+ KB\n"
          ]
        }
      ],
      "source": [
        "test_df.info()"
      ]
    },
    {
      "cell_type": "markdown",
      "metadata": {
        "id": "wf0axkyROPu1"
      },
      "source": [
        "# Transfer learning model with data augmentation"
      ]
    },
    {
      "cell_type": "code",
      "execution_count": null,
      "metadata": {
        "colab": {
          "base_uri": "https://localhost:8080/",
          "height": 376
        },
        "id": "SlKIHkK6QsCT",
        "outputId": "39f0240f-0d58-4928-fe8e-2008f8cc7f9b"
      },
      "outputs": [
        {
          "ename": "ModuleNotFoundError",
          "evalue": "ignored",
          "output_type": "error",
          "traceback": [
            "\u001b[0;31m---------------------------------------------------------------------------\u001b[0m",
            "\u001b[0;31mModuleNotFoundError\u001b[0m                       Traceback (most recent call last)",
            "\u001b[0;32m<ipython-input-30-46cdda1189fa>\u001b[0m in \u001b[0;36m<cell line: 6>\u001b[0;34m()\u001b[0m\n\u001b[1;32m      4\u001b[0m \u001b[0;32mfrom\u001b[0m \u001b[0mtensorflow\u001b[0m\u001b[0;34m.\u001b[0m\u001b[0mkeras\u001b[0m \u001b[0;32mimport\u001b[0m \u001b[0mlayers\u001b[0m\u001b[0;34m\u001b[0m\u001b[0;34m\u001b[0m\u001b[0m\n\u001b[1;32m      5\u001b[0m \u001b[0;32mfrom\u001b[0m \u001b[0mtensorflow\u001b[0m\u001b[0;34m.\u001b[0m\u001b[0mkeras\u001b[0m \u001b[0;32mimport\u001b[0m \u001b[0mmodels\u001b[0m\u001b[0;34m\u001b[0m\u001b[0;34m\u001b[0m\u001b[0m\n\u001b[0;32m----> 6\u001b[0;31m \u001b[0;32mfrom\u001b[0m \u001b[0mkerastuner\u001b[0m\u001b[0;34m.\u001b[0m\u001b[0mtuners\u001b[0m \u001b[0;32mimport\u001b[0m \u001b[0mRandomSearch\u001b[0m\u001b[0;34m\u001b[0m\u001b[0;34m\u001b[0m\u001b[0m\n\u001b[0m\u001b[1;32m      7\u001b[0m \u001b[0;34m\u001b[0m\u001b[0m\n\u001b[1;32m      8\u001b[0m \u001b[0;32mdef\u001b[0m \u001b[0mbuild_model\u001b[0m\u001b[0;34m(\u001b[0m\u001b[0mhp\u001b[0m\u001b[0;34m)\u001b[0m\u001b[0;34m:\u001b[0m\u001b[0;34m\u001b[0m\u001b[0;34m\u001b[0m\u001b[0m\n",
            "\u001b[0;31mModuleNotFoundError\u001b[0m: No module named 'kerastuner'",
            "",
            "\u001b[0;31m---------------------------------------------------------------------------\u001b[0;32m\nNOTE: If your import is failing due to a missing package, you can\nmanually install dependencies using either !pip or !apt.\n\nTo view examples of installing some common dependencies, click the\n\"Open Examples\" button below.\n\u001b[0;31m---------------------------------------------------------------------------\u001b[0m\n"
          ]
        }
      ],
      "source": [
        "from tensorflow.keras.preprocessing.image import ImageDataGenerator\n",
        "from tensorflow.keras.callbacks import LearningRateScheduler, EarlyStopping\n",
        "from tensorflow.keras.applications import VGG16\n",
        "from tensorflow.keras import layers\n",
        "from tensorflow.keras import models\n",
        "from kerastuner.tuners import RandomSearch\n",
        "\n",
        "def build_model(hp):\n",
        "    # Load the VGG16 model\n",
        "    base_model = VGG16(weights=\"imagenet\", include_top=False, input_shape=(224, 224, 3))\n",
        "\n",
        "    # Freeze the pre-trained layers\n",
        "    for layer in base_model.layers:\n",
        "        layer.trainable = False\n",
        "\n",
        "    model = models.Sequential([\n",
        "        base_model,\n",
        "        layers.Flatten(),\n",
        "        layers.Dense(units=hp.Int('units', min_value=256, max_value=1024, step=128), activation='relu'),\n",
        "        layers.Dropout(rate=hp.Float('dropout_rate', min_value=0.1, max_value=0.5, step=0.1)),\n",
        "        layers.Dense(3, activation='softmax')  # We have 3 distinct labels\n",
        "    ])\n",
        "\n",
        "    # Compile the model\n",
        "    model.compile(optimizer='adam',\n",
        "                  loss='categorical_crossentropy',\n",
        "                  metrics=['accuracy'])\n",
        "\n",
        "    return model\n",
        "\n",
        "# Data augmentation\n",
        "datagen = ImageDataGenerator(\n",
        "    rotation_range=20,\n",
        "    width_shift_range=0.1,\n",
        "    height_shift_range=0.1,\n",
        "    shear_range=0.2,\n",
        "    zoom_range=0.2,\n",
        "    horizontal_flip=True,\n",
        "    fill_mode='nearest')\n",
        "\n",
        "# Learning rate scheduling\n",
        "def lr_scheduler(epoch, lr):\n",
        "    if epoch < 5:\n",
        "        return lr\n",
        "    else:\n",
        "        return lr * tf.math.exp(-0.1)\n",
        "\n",
        "lr_callback = LearningRateScheduler(lr_scheduler)\n",
        "\n",
        "# Early stopping\n",
        "early_stopping = EarlyStopping(monitor='val_loss', patience=5)\n",
        "\n",
        "# Perform hyperparameter tuning with Keras Tuner\n",
        "tuner = RandomSearch(\n",
        "    build_model,\n",
        "    objective='val_accuracy',\n",
        "    max_trials=10,\n",
        "    executions_per_trial=3,\n",
        "    directory='tuner_output',\n",
        "    project_name='tuning_hyperparameters')\n",
        "\n",
        "tuner.search_space_summary()\n",
        "\n",
        "tuner.search(datagen.flow(X_train, y_train, batch_size=32),\n",
        "             epochs=20,\n",
        "             validation_data=(X_val, y_val),\n",
        "             callbacks=[lr_callback, early_stopping])\n",
        "\n",
        "# Get the optimal hyperparameters\n",
        "best_hps = tuner.get_best_hyperparameters(num_trials=1)[0]\n",
        "\n",
        "# Build the model with the optimal hyperparameters\n",
        "model = tuner.hypermodel.build(best_hps)\n",
        "\n",
        "# Train the model\n",
        "history = model.fit(datagen.flow(X_train, y_train, batch_size=32),\n",
        "                    epochs=20,\n",
        "                    validation_data=(X_val, y_val),\n",
        "                    callbacks=[lr_callback, early_stopping])\n"
      ]
    },
    {
      "cell_type": "code",
      "execution_count": null,
      "metadata": {
        "id": "tA9sJmaKQsKo"
      },
      "outputs": [],
      "source": []
    },
    {
      "cell_type": "code",
      "execution_count": null,
      "metadata": {
        "id": "ZykbNJHBQsNI"
      },
      "outputs": [],
      "source": []
    }
  ],
  "metadata": {
    "accelerator": "GPU",
    "colab": {
      "provenance": [],
      "authorship_tag": "ABX9TyNQFCuazR0nhu87WMEny9e8",
      "include_colab_link": true
    },
    "gpuClass": "standard",
    "kernelspec": {
      "display_name": "Python 3",
      "name": "python3"
    },
    "language_info": {
      "name": "python"
    }
  },
  "nbformat": 4,
  "nbformat_minor": 0
}